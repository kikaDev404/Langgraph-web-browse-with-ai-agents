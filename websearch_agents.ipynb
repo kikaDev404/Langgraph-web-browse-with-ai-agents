{
 "cells": [
  {
   "cell_type": "code",
   "execution_count": null,
   "id": "12a7c1af",
   "metadata": {},
   "outputs": [],
   "source": [
    "from typing import Annotated\n",
    "from langgraph.graph import START, END, StateGraph\n",
    "from langgraph.graph.message import add_messages\n",
    "from IPython.display import Image, display\n",
    "import gradio as gr\n",
    "from langgraph.prebuilt import ToolNode, tools_condition\n",
    "import requests\n",
    "import os\n",
    "from langchain.agents import Tool\n",
    "from langchain_openai import ChatOpenAI\n",
    "from langgraph.checkpoint.memory import MemorySaver\n",
    "from pydantic import BaseModel\n",
    "import nest_asyncio\n",
    "from dotenv import load_dotenv\n",
    "import json"
   ]
  },
  {
   "cell_type": "code",
   "execution_count": null,
   "id": "e6b6ee08",
   "metadata": {},
   "outputs": [],
   "source": [
    "from langchain_community.agent_toolkits import PlayWrightBrowserToolkit\n",
    "from langchain_community.tools.playwright.utils import create_async_playwright_browser"
   ]
  },
  {
   "cell_type": "code",
   "execution_count": null,
   "id": "8f560d78",
   "metadata": {},
   "outputs": [],
   "source": [
    "load_dotenv(override=True)"
   ]
  },
  {
   "cell_type": "code",
   "execution_count": null,
   "id": "98b72dde",
   "metadata": {},
   "outputs": [],
   "source": [
    "DISCORD_API_KEY = os.getenv('DISCORD_TOKEN')\n",
    "print(DISCORD_API_KEY[:4])\n",
    "DISCORD_CHANNEL_ID = os.getenv('DISCORD_CHANNEL_ID')\n",
    "print(DISCORD_CHANNEL_ID[:4])"
   ]
  },
  {
   "cell_type": "code",
   "execution_count": null,
   "id": "36fafb57",
   "metadata": {},
   "outputs": [],
   "source": [
    "nest_asyncio.apply()"
   ]
  },
  {
   "cell_type": "code",
   "execution_count": null,
   "id": "759f7ea9",
   "metadata": {},
   "outputs": [],
   "source": [
    "class State(BaseModel) : \n",
    "    messages : Annotated[list, add_messages]"
   ]
  },
  {
   "cell_type": "code",
   "execution_count": null,
   "id": "fe281103",
   "metadata": {},
   "outputs": [],
   "source": [
    "!playwright install #only run this if you have not install the playwright browser before. the playwright library is installed in your system if you have install the requrements.txt file"
   ]
  },
  {
   "cell_type": "markdown",
   "id": "2d962e52",
   "metadata": {},
   "source": [
    "While executing the next few cells, you might hit a problem with the Playwright browser raising a NotImplementedError.\n",
    "\n",
    "This should work when we move to python modules, but it can cause problems in Windows in a notebook.\n",
    "\n",
    "If you it this error and would like to run the notebook, you need to make a small change which seems quite hacky! You need to do this AFTER installing Playwright (prior cells)\n",
    "\n",
    "1. Right click in `.venv` in the File Explorer on the left and select \"Find in folder\"\n",
    "2. Search for `asyncio.set_event_loop_policy(WindowsSelectorEventLoopPolicy())`  \n",
    "3. That code should be found in a line of code in a file called `kernelapp.py`\n",
    "4. Comment out the entire else clause that this line is a part of - see the fragment below. Be sure to have the \"pass\" statement after the ImportError line.\n",
    "5. Restart the kernel by pressing the \"Restart\" button above\n",
    "\n",
    "```python\n",
    "        if sys.platform.startswith(\"win\") and sys.version_info >= (3, 8):\n",
    "            import asyncio\n",
    " \n",
    "            try:\n",
    "                from asyncio import WindowsProactorEventLoopPolicy, WindowsSelectorEventLoopPolicy\n",
    "            except ImportError:\n",
    "                pass\n",
    "                # not affected\n",
    "           # else:\n",
    "            #    if type(asyncio.get_event_loop_policy()) is WindowsProactorEventLoopPolicy:\n",
    "                    # WindowsProactorEventLoopPolicy is not compatible with tornado 6\n",
    "                    # fallback to the pre-3.8 default of Selector\n",
    "                    # asyncio.set_event_loop_policy(WindowsSelectorEventLoopPolicy())\n",
    "```"
   ]
  },
  {
   "cell_type": "code",
   "execution_count": null,
   "id": "08259146",
   "metadata": {},
   "outputs": [],
   "source": [
    "async_browser = create_async_playwright_browser(headless = False)\n",
    "toolkit = PlayWrightBrowserToolkit.from_browser(async_browser=async_browser)\n",
    "tools = toolkit.get_tools() #this tools contains all the tools from the browser"
   ]
  },
  {
   "cell_type": "code",
   "execution_count": null,
   "id": "08af3647",
   "metadata": {},
   "outputs": [],
   "source": [
    "def send_discord_message(msg : str, channel_id : str = DISCORD_CHANNEL_ID):\n",
    "    \"\"\"\n",
    "    :param msg: the message you want to send\n",
    "    :param channel_id: channel id where you want to send your message to\n",
    "    :return: None\n",
    "    \"\"\"\n",
    "    TOKEN = DISCORD_API_KEY\n",
    "    headers = {\n",
    "        'Authorization': f'Bot {TOKEN}',\n",
    "        'Content-Type': 'application/json'\n",
    "    }\n",
    "\n",
    "    message = json.dumps({'content': msg})\n",
    "\n",
    "    r = requests.post(\n",
    "        f'https://discord.com/api/v10/channels/{channel_id}/messages',\n",
    "        headers=headers,\n",
    "        data=message\n",
    "    )\n",
    "\n",
    "    if r.status_code != 200:\n",
    "        print(f'Failed to send message, returned status code: {r.status_code}, response: {r.text}')\n",
    "    else:\n",
    "        print(\"Message sent successfully!\")"
   ]
  },
  {
   "cell_type": "code",
   "execution_count": null,
   "id": "2784c44d",
   "metadata": {},
   "outputs": [],
   "source": [
    "discord_push = Tool(\n",
    "    name = 'discord message tool',\n",
    "    func = send_discord_message,\n",
    "    description='use this tool to send messages to discord'\n",
    ")"
   ]
  },
  {
   "cell_type": "code",
   "execution_count": null,
   "id": "e5dac5b4",
   "metadata": {},
   "outputs": [],
   "source": [
    "tools = tools + [discord_push]"
   ]
  },
  {
   "cell_type": "code",
   "execution_count": null,
   "id": "feae30cd",
   "metadata": {},
   "outputs": [],
   "source": [
    "llm = ChatOpenAI(api_key = 'ollama', base_url = \"http://127.0.0.1:11434/v1\", model = 'qwen3:8b' )"
   ]
  },
  {
   "cell_type": "code",
   "execution_count": null,
   "id": "3521d9be",
   "metadata": {},
   "outputs": [],
   "source": [
    "llm_with_tools = llm.bind_tools(tools)"
   ]
  },
  {
   "cell_type": "code",
   "execution_count": null,
   "id": "f26dd295",
   "metadata": {},
   "outputs": [],
   "source": [
    "def chat_bot(old_state : State) ->State : \n",
    "    response_from_llm = llm_with_tools.invoke(old_state.messages)\n",
    "    new_state = State(messages=[response_from_llm])\n",
    "    return new_state"
   ]
  },
  {
   "cell_type": "code",
   "execution_count": null,
   "id": "7affa446",
   "metadata": {},
   "outputs": [],
   "source": [
    "graph_builder = StateGraph(State)"
   ]
  },
  {
   "cell_type": "code",
   "execution_count": null,
   "id": "090fa81e",
   "metadata": {},
   "outputs": [],
   "source": [
    "graph_builder.add_node(\"chatbot\" , chat_bot)\n",
    "graph_builder.add_node(\"tools\", ToolNode(tools = tools))"
   ]
  },
  {
   "cell_type": "code",
   "execution_count": null,
   "id": "0c1be7c2",
   "metadata": {},
   "outputs": [],
   "source": [
    "graph_builder.add_edge(START, \"chatbot\")\n",
    "graph_builder.add_conditional_edges(\"chatbot\" , tools_condition, \"tools\")\n",
    "graph_builder.add_edge(\"tools\", \"chatbot\")\n",
    "graph_builder.add_edge(\"chatbot\", END)"
   ]
  },
  {
   "cell_type": "code",
   "execution_count": null,
   "id": "49c015ec",
   "metadata": {},
   "outputs": [],
   "source": [
    "memory = MemorySaver()"
   ]
  },
  {
   "cell_type": "code",
   "execution_count": null,
   "id": "c33e89d4",
   "metadata": {},
   "outputs": [],
   "source": [
    "graph = graph_builder.compile(checkpointer=memory)\n",
    "display(Image(graph.get_graph().draw_mermaid_png()))"
   ]
  },
  {
   "cell_type": "code",
   "execution_count": null,
   "id": "0e87f122",
   "metadata": {},
   "outputs": [],
   "source": [
    "config = {'configurable' : {'thread_id' : \"5\"}}"
   ]
  },
  {
   "cell_type": "code",
   "execution_count": null,
   "id": "d19c856d",
   "metadata": {},
   "outputs": [],
   "source": [
    "def process_ai_response(response):\n",
    "    if \"<think>\" in response and \"</think>\" in response:\n",
    "        # Extract everything cleanly\n",
    "        before_think = response.split(\"<think>\")[0]\n",
    "        think_content = response.split(\"<think>\")[1].split(\"</think>\")[0]\n",
    "        after_think = response.split(\"</think>\")[1]\n",
    "\n",
    "        # Format the think block for display\n",
    "        formatted_think = f\"> 💭 *{think_content.strip()}*\"\n",
    "\n",
    "        # Combine all parts\n",
    "        return after_think.strip()\n",
    "    else:\n",
    "        return response\n",
    "\n",
    "#only keep this if your llm is an thinking model. This code is used to remove the part inside the <think> </think> tag so that gradio can render the output "
   ]
  },
  {
   "cell_type": "code",
   "execution_count": null,
   "id": "dfa63f95",
   "metadata": {},
   "outputs": [],
   "source": [
    "async def chat(user_input, history):\n",
    "    old_state = State(messages=[{'role' : 'user', 'content' : user_input}])\n",
    "    new_state = await graph.ainvoke(old_state, config=config) #invoking the llm in async mode\n",
    "    result = new_state['messages'][-1].content\n",
    "    return process_ai_response(result)"
   ]
  },
  {
   "cell_type": "code",
   "execution_count": null,
   "id": "9815e66f",
   "metadata": {},
   "outputs": [],
   "source": [
    "gr.ChatInterface(chat, type = 'messages').launch()"
   ]
  }
 ],
 "metadata": {
  "kernelspec": {
   "display_name": "Langgraph-web-browse-with-ai-agents (3.12.11)",
   "language": "python",
   "name": "python3"
  },
  "language_info": {
   "codemirror_mode": {
    "name": "ipython",
    "version": 3
   },
   "file_extension": ".py",
   "mimetype": "text/x-python",
   "name": "python",
   "nbconvert_exporter": "python",
   "pygments_lexer": "ipython3",
   "version": "3.12.11"
  }
 },
 "nbformat": 4,
 "nbformat_minor": 5
}
